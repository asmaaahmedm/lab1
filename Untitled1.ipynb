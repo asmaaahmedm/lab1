{
  "nbformat": 4,
  "nbformat_minor": 0,
  "metadata": {
    "colab": {
      "provenance": [],
      "authorship_tag": "ABX9TyOyax7iPlSyCOrDiyRiJH3z",
      "include_colab_link": true
    },
    "kernelspec": {
      "name": "python3",
      "display_name": "Python 3"
    },
    "language_info": {
      "name": "python"
    }
  },
  "cells": [
    {
      "cell_type": "markdown",
      "metadata": {
        "id": "view-in-github",
        "colab_type": "text"
      },
      "source": [
        "<a href=\"https://colab.research.google.com/github/asmaaahmedm/lab1/blob/main/Untitled1.ipynb\" target=\"_parent\"><img src=\"https://colab.research.google.com/assets/colab-badge.svg\" alt=\"Open In Colab\"/></a>"
      ]
    },
    {
      "cell_type": "code",
      "execution_count": 1,
      "metadata": {
        "id": "RgiL8cTZJo77"
      },
      "outputs": [],
      "source": [
        "import numpy as np\n",
        "ages = [18, 21, 20, 19, 22, 23, 20, 21, 22, 19]\n",
        "manual_mean = sum(ages) / len(ages)\n",
        "numpy_mean = np.mean(ages)\n"
      ]
    },
    {
      "cell_type": "code",
      "source": [
        "np.random.seed(0)\n",
        "random_list = np.random.randint(10, 51, size=15).tolist()\n",
        "sorted_list = sorted(random_list)\n",
        "n = len(sorted_list)\n",
        "if n % 2 == 1:\n",
        "    manual_median = sorted_list[n // 2]\n",
        "else:\n",
        "    manual_median = (sorted_list[n // 2 - 1] + sorted_list[n // 2]) / 2\n",
        "\n",
        "numpy_median = np.median(random_list)"
      ],
      "metadata": {
        "id": "I8jHJSKlKf5Y"
      },
      "execution_count": null,
      "outputs": []
    },
    {
      "cell_type": "code",
      "source": [
        "min = min(random_list)\n",
        "max = max(random_list)\n",
        "range = max - min\n",
        "numpy_min = np.min(random_list)\n",
        "numpy_max = np.max(random_list)\n",
        "numpy_range = numpy_max - numpy_min"
      ],
      "metadata": {
        "id": "2P42-QDpKf17"
      },
      "execution_count": null,
      "outputs": []
    },
    {
      "cell_type": "code",
      "source": [
        "data = [5, 7, 3, 7, 9, 10, 15, 7]\n",
        "mean_data = sum(data) / len(data)\n",
        "manual_variance = sum((x - mean_data) ** 2 for x in data) / len(data)\n",
        "manual_std = manual_variance ** 0.5\n",
        "numpy_variance = np.var(data)\n",
        "numpy_std = np.std(data)"
      ],
      "metadata": {
        "id": "dj4spcbuKfy2"
      },
      "execution_count": null,
      "outputs": []
    },
    {
      "cell_type": "code",
      "source": [
        "q25 = np.percentile(data, 25)\n",
        "q50 = np.percentile(data, 50)\n",
        "q75 = np.percentile(data, 75)\n",
        "iqr = q75 - q25"
      ],
      "metadata": {
        "id": "75mOtxFBKftF"
      },
      "execution_count": null,
      "outputs": []
    },
    {
      "cell_type": "code",
      "source": [
        "def z_score_manual(lst):\n",
        "    mean_val = sum(lst) / len(lst)\n",
        "    std_val = (sum((x - mean_val)  2 for x in lst) / len(lst))  0.5\n",
        "    return [(x - mean_val) / std_val for x in lst]\n",
        "\n",
        "z_scores = z_score_manual(data)"
      ],
      "metadata": {
        "id": "1QNeNPV4MOVb"
      },
      "execution_count": null,
      "outputs": []
    },
    {
      "cell_type": "code",
      "source": [
        "np.random.seed(2)\n",
        "numbers_25 = np.random.randint(1, 51, size=25).tolist()\n",
        "numbers_25.extend([300, 400])\n",
        "q1 = np.percentile(numbers_25, 25)\n",
        "q3 = np.percentile(numbers_25, 75)\n",
        "iqr_outlier = q3 - q1\n",
        "lower_bound = q1 - 1.5 * iqr_outlier\n",
        "upper_bound = q3 + 1.5 * iqr_outlier\n",
        "outliers = [x for x in numbers_25 if x < lower_bound or x > upper_bound]"
      ],
      "metadata": {
        "id": "Y0xw5nHDMOLj"
      },
      "execution_count": null,
      "outputs": []
    },
    {
      "cell_type": "code",
      "source": [
        "np.random.seed(1)\n",
        "rand_20 = np.random.randint(1, 101, size=20).tolist()\n",
        "window_size = 3\n",
        "moving_avg_manual = [sum(rand_20[i:i+window_size]) / window_size for i in range(len(rand_20) - window_size + 1)]\n",
        "moving_avg_numpy = np.convolve(rand_20, np.ones(window_size)/window_size, mode='valid').tolist()"
      ],
      "metadata": {
        "id": "Fui2xTPJM6JH"
      },
      "execution_count": null,
      "outputs": []
    },
    {
      "cell_type": "code",
      "source": [
        "np.random.seed(2)\n",
        "numbers_25 = np.random.randint(1, 51, size=25).tolist()\n",
        "numbers_25.extend([300, 400])\n",
        "q1 = np.percentile(numbers_25, 25)\n",
        "q3 = np.percentile(numbers_25, 75)\n",
        "iqr = q3 - q1\n",
        "lower_bound = q1 - 1.5 * iqr\n",
        "upper_bound = q3 + 1.5 * iqr\n",
        "outliers = [x for x in numbers_25 if x < lower_bound or x > upper_bound]"
      ],
      "metadata": {
        "id": "XNQcnUHiM5qr"
      },
      "execution_count": null,
      "outputs": []
    }
  ]
}